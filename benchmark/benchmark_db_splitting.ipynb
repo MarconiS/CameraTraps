{
 "cells": [
  {
   "cell_type": "code",
   "execution_count": 1,
   "metadata": {},
   "outputs": [],
   "source": [
    "from IPython.core.interactiveshell import InteractiveShell\n",
    "InteractiveShell.ast_node_interactivity = 'all'  # default is ‘last_expr’\n",
    "\n",
    "%load_ext autoreload\n",
    "%autoreload 2"
   ]
  },
  {
   "cell_type": "code",
   "execution_count": 2,
   "metadata": {},
   "outputs": [],
   "source": [
    "import sys\n",
    "sys.path.append('/data/home/marmot/camtrap/PyCharm/CameraTraps-benchmark')"
   ]
  },
  {
   "cell_type": "code",
   "execution_count": 3,
   "metadata": {},
   "outputs": [],
   "source": [
    "import json\n",
    "from collections import OrderedDict\n",
    "from copy import deepcopy\n",
    "\n",
    "from data_management.cct_json_utils import CameraTrapJsonUtils"
   ]
  },
  {
   "cell_type": "markdown",
   "metadata": {},
   "source": [
    "# Load original DBs and splits"
   ]
  },
  {
   "cell_type": "markdown",
   "metadata": {},
   "source": [
    "## Caltech"
   ]
  },
  {
   "cell_type": "code",
   "execution_count": 4,
   "metadata": {},
   "outputs": [],
   "source": [
    "with open('/beaver_disk/camtrap/caltech/original/CaltechCameraTrapsSplits_v0.json') as f:\n",
    "    cct_splits = json.load(f)"
   ]
  },
  {
   "cell_type": "code",
   "execution_count": 5,
   "metadata": {},
   "outputs": [],
   "source": [
    "for loc in cct_splits['splits']['eccv_train']:\n",
    "    assert loc in set(cct_splits['splits']['train'])"
   ]
  },
  {
   "cell_type": "code",
   "execution_count": 6,
   "metadata": {},
   "outputs": [
    {
     "name": "stdout",
     "output_type": "stream",
     "text": [
      "eccv_val 10\n",
      "eccv_val 10\n",
      "val 40\n",
      "val 40\n",
      "eccv_train 30\n",
      "eccv_train 10\n",
      "train 120\n",
      "train 100\n"
     ]
    }
   ],
   "source": [
    "for name, split in cct_splits['splits'].items():\n",
    "    print(name, len(split))\n",
    "    print(name, len(set(split)))"
   ]
  },
  {
   "cell_type": "markdown",
   "metadata": {},
   "source": [
    "Using version 2.1 of the CaltechCameraTraps DB (we are only using the CCT-20 locations anyways)"
   ]
  },
  {
   "cell_type": "code",
   "execution_count": 7,
   "metadata": {},
   "outputs": [],
   "source": [
    "with open('/beaver_disk/camtrap/caltech/original/CaltechCameraTraps_v2.1.json') as f:\n",
    "    cct_db = json.load(f)"
   ]
  },
  {
   "cell_type": "code",
   "execution_count": 8,
   "metadata": {},
   "outputs": [
    {
     "data": {
      "text/plain": [
       "244497"
      ]
     },
     "execution_count": 8,
     "metadata": {},
     "output_type": "execute_result"
    },
    {
     "data": {
      "text/plain": [
       "244577"
      ]
     },
     "execution_count": 8,
     "metadata": {},
     "output_type": "execute_result"
    }
   ],
   "source": [
    "len(cct_db['images'])\n",
    "len(cct_db['annotations'])"
   ]
  },
  {
   "cell_type": "code",
   "execution_count": 9,
   "metadata": {},
   "outputs": [
    {
     "data": {
      "text/plain": [
       "42087"
      ]
     },
     "execution_count": 9,
     "metadata": {},
     "output_type": "execute_result"
    }
   ],
   "source": [
    "num_unlabeled = 0\n",
    "for a in cct_db['annotations']:\n",
    "    if a['category_id'] == 999:\n",
    "        num_unlabeled += 1\n",
    "num_unlabeled"
   ]
  },
  {
   "cell_type": "code",
   "execution_count": 10,
   "metadata": {},
   "outputs": [
    {
     "data": {
      "text/plain": [
       "{'date_captured': '2012-06-02 07:05:58',\n",
       " 'file_name': '596a4e34-23d2-11e8-a6a3-ec086b02610b.jpg',\n",
       " 'frame_num': 2,\n",
       " 'height': 1494,\n",
       " 'id': '596a4e34-23d2-11e8-a6a3-ec086b02610b',\n",
       " 'location': '46',\n",
       " 'rights_holder': 'Justin Brown',\n",
       " 'seq_id': '6f19090c-5567-11e8-8ff6-dca9047ef277',\n",
       " 'seq_num_frames': 3,\n",
       " 'width': 2048}"
      ]
     },
     "execution_count": 10,
     "metadata": {},
     "output_type": "execute_result"
    },
    {
     "data": {
      "text/plain": [
       "{'category_id': 9,\n",
       " 'id': '2a5492ce-cbf1-11e8-819c-970a9450cdbc',\n",
       " 'image_id': '596a4e34-23d2-11e8-a6a3-ec086b02610b'}"
      ]
     },
     "execution_count": 10,
     "metadata": {},
     "output_type": "execute_result"
    }
   ],
   "source": [
    "cct_db['images'][100]\n",
    "cct_db['annotations'][100]"
   ]
  },
  {
   "cell_type": "code",
   "execution_count": 11,
   "metadata": {},
   "outputs": [
    {
     "data": {
      "text/plain": [
       "23"
      ]
     },
     "execution_count": 11,
     "metadata": {},
     "output_type": "execute_result"
    },
    {
     "data": {
      "text/plain": [
       "[{'id': 1, 'name': 'opossum'},\n",
       " {'id': 3, 'name': 'raccoon'},\n",
       " {'id': 5, 'name': 'squirrel'},\n",
       " {'id': 6, 'name': 'bobcat'},\n",
       " {'id': 7, 'name': 'skunk'},\n",
       " {'id': 8, 'name': 'dog'},\n",
       " {'id': 9, 'name': 'coyote'},\n",
       " {'id': 10, 'name': 'rabbit'},\n",
       " {'id': 11, 'name': 'bird'},\n",
       " {'id': 14, 'name': 'lizard'},\n",
       " {'id': 16, 'name': 'cat'},\n",
       " {'id': 21, 'name': 'badger'},\n",
       " {'id': 30, 'name': 'empty'},\n",
       " {'id': 33, 'name': 'car'},\n",
       " {'id': 34, 'name': 'deer'},\n",
       " {'id': 37, 'name': 'cow'},\n",
       " {'id': 39, 'name': 'pig'},\n",
       " {'id': 40, 'name': 'mountain_lion'},\n",
       " {'id': 51, 'name': 'fox'},\n",
       " {'id': 66, 'name': 'bat'},\n",
       " {'id': 97, 'name': 'insect'},\n",
       " {'id': 99, 'name': 'rodent'},\n",
       " {'id': 999, 'name': 'unlabeled_animal'}]"
      ]
     },
     "execution_count": 11,
     "metadata": {},
     "output_type": "execute_result"
    }
   ],
   "source": [
    "len(cct_db['categories'])\n",
    "sorted(cct_db['categories'], key=lambda x: x['id'])"
   ]
  },
  {
   "cell_type": "code",
   "execution_count": 7,
   "metadata": {},
   "outputs": [],
   "source": [
    "with open('/beaver_disk/camtrap/caltech/original/caltech_bboxes_20190904.json') as f:\n",
    "    cct_boxes = json.load(f)"
   ]
  },
  {
   "cell_type": "code",
   "execution_count": 8,
   "metadata": {},
   "outputs": [
    {
     "data": {
      "text/plain": [
       "63102"
      ]
     },
     "execution_count": 8,
     "metadata": {},
     "output_type": "execute_result"
    },
    {
     "data": {
      "text/plain": [
       "66406"
      ]
     },
     "execution_count": 8,
     "metadata": {},
     "output_type": "execute_result"
    }
   ],
   "source": [
    "len(cct_boxes['images'])\n",
    "len(cct_boxes['annotations'])"
   ]
  },
  {
   "cell_type": "code",
   "execution_count": 9,
   "metadata": {},
   "outputs": [
    {
     "data": {
      "text/plain": [
       "{'date_captured': '2011-09-21 13:15:49',\n",
       " 'file_name': '59421138-23d2-11e8-a6a3-ec086b02610b.jpg',\n",
       " 'frame_num': 1,\n",
       " 'height': 1494,\n",
       " 'id': '59421138-23d2-11e8-a6a3-ec086b02610b',\n",
       " 'location': '88',\n",
       " 'rights_holder': 'Justin Brown',\n",
       " 'seq_id': '6f13fdb0-5567-11e8-80f5-dca9047ef277',\n",
       " 'seq_num_frames': 3,\n",
       " 'width': 2048}"
      ]
     },
     "execution_count": 9,
     "metadata": {},
     "output_type": "execute_result"
    },
    {
     "data": {
      "text/plain": [
       "{'bbox': [883.2, 612.693359375, 320.8533593750001, 358.4],\n",
       " 'category_id': 1,\n",
       " 'id': '2a551c6c-cbf1-11e8-819c-970a9450cdbc',\n",
       " 'image_id': '59421138-23d2-11e8-a6a3-ec086b02610b'}"
      ]
     },
     "execution_count": 9,
     "metadata": {},
     "output_type": "execute_result"
    }
   ],
   "source": [
    "cct_boxes['images'][100]\n",
    "cct_boxes['annotations'][100]"
   ]
  },
  {
   "cell_type": "code",
   "execution_count": 10,
   "metadata": {},
   "outputs": [
    {
     "data": {
      "text/plain": [
       "4"
      ]
     },
     "execution_count": 10,
     "metadata": {},
     "output_type": "execute_result"
    },
    {
     "data": {
      "text/plain": [
       "[{'id': 1, 'name': 'animal'},\n",
       " {'id': 2, 'name': 'person'},\n",
       " {'id': 3, 'name': 'group'},\n",
       " {'id': 4, 'name': 'vehicle'}]"
      ]
     },
     "execution_count": 10,
     "metadata": {},
     "output_type": "execute_result"
    }
   ],
   "source": [
    "len(cct_boxes['categories'])\n",
    "sorted(cct_boxes['categories'], key=lambda x: x['id'])"
   ]
  },
  {
   "cell_type": "markdown",
   "metadata": {},
   "source": [
    "## SS and especially season 1"
   ]
  },
  {
   "cell_type": "code",
   "execution_count": 4,
   "metadata": {},
   "outputs": [],
   "source": [
    "with open('/beaver_disk/camtrap/ss_season1/original/SnapshotSerengetiSplits_v0.json') as f:\n",
    "    ss_splits = json.load(f)"
   ]
  },
  {
   "cell_type": "code",
   "execution_count": 5,
   "metadata": {},
   "outputs": [
    {
     "data": {
      "text/plain": [
       "179"
      ]
     },
     "execution_count": 5,
     "metadata": {},
     "output_type": "execute_result"
    },
    {
     "data": {
      "text/plain": [
       "46"
      ]
     },
     "execution_count": 5,
     "metadata": {},
     "output_type": "execute_result"
    }
   ],
   "source": [
    "len(ss_splits['splits']['train'])\n",
    "len(ss_splits['splits']['val'])"
   ]
  },
  {
   "cell_type": "code",
   "execution_count": 6,
   "metadata": {},
   "outputs": [],
   "source": [
    "with open('/beaver_disk/camtrap/ss_season1/original/SnapshotSerengetiS01.json') as f:\n",
    "    ss_season1_db = json.load(f)"
   ]
  },
  {
   "cell_type": "code",
   "execution_count": 7,
   "metadata": {},
   "outputs": [
    {
     "data": {
      "text/plain": [
       "411414"
      ]
     },
     "execution_count": 7,
     "metadata": {},
     "output_type": "execute_result"
    },
    {
     "data": {
      "text/plain": [
       "412858"
      ]
     },
     "execution_count": 7,
     "metadata": {},
     "output_type": "execute_result"
    }
   ],
   "source": [
    "len(ss_season1_db['images'])\n",
    "len(ss_season1_db['annotations'])"
   ]
  },
  {
   "cell_type": "code",
   "execution_count": 8,
   "metadata": {},
   "outputs": [
    {
     "data": {
      "text/plain": [
       "{'corrupt': False,\n",
       " 'datetime': '2010-09-19 11:51:58',\n",
       " 'file_name': 'S1/H10/H10_R1/S1_H10_R1_PICT0664.JPG',\n",
       " 'frame_num': 3,\n",
       " 'height': 1536,\n",
       " 'id': 'S1/H10/H10_R1/S1_H10_R1_PICT0664',\n",
       " 'location': 'H10',\n",
       " 'seq_id': 'SER_S1#H10#1#222',\n",
       " 'seq_num_frames': 3,\n",
       " 'width': 2048}"
      ]
     },
     "execution_count": 8,
     "metadata": {},
     "output_type": "execute_result"
    }
   ],
   "source": [
    "ss_season1_db['images'][200]"
   ]
  },
  {
   "cell_type": "code",
   "execution_count": 9,
   "metadata": {},
   "outputs": [],
   "source": [
    "for i in ss_season1_db['images']:\n",
    "    assert i['file_name'].startswith('S1/')"
   ]
  },
  {
   "cell_type": "code",
   "execution_count": 10,
   "metadata": {},
   "outputs": [
    {
     "data": {
      "text/plain": [
       "61"
      ]
     },
     "execution_count": 10,
     "metadata": {},
     "output_type": "execute_result"
    },
    {
     "data": {
      "text/plain": [
       "[{'id': 0, 'name': 'empty'},\n",
       " {'id': 1, 'name': 'human'},\n",
       " {'id': 2, 'name': 'gazellegrants'},\n",
       " {'id': 3, 'name': 'reedbuck'},\n",
       " {'id': 4, 'name': 'dikdik'},\n",
       " {'id': 5, 'name': 'zebra'},\n",
       " {'id': 6, 'name': 'porcupine'},\n",
       " {'id': 7, 'name': 'gazellethomsons'},\n",
       " {'id': 8, 'name': 'hyenaspotted'},\n",
       " {'id': 9, 'name': 'warthog'},\n",
       " {'id': 10, 'name': 'impala'},\n",
       " {'id': 11, 'name': 'elephant'},\n",
       " {'id': 12, 'name': 'aardvark'},\n",
       " {'id': 13, 'name': 'giraffe'},\n",
       " {'id': 14, 'name': 'mongoose'},\n",
       " {'id': 15, 'name': 'buffalo'},\n",
       " {'id': 16, 'name': 'hartebeest'},\n",
       " {'id': 17, 'name': 'guineafowl'},\n",
       " {'id': 18, 'name': 'wildebeest'},\n",
       " {'id': 19, 'name': 'leopard'},\n",
       " {'id': 20, 'name': 'ostrich'},\n",
       " {'id': 21, 'name': 'lionfemale'},\n",
       " {'id': 22, 'name': 'koribustard'},\n",
       " {'id': 23, 'name': 'otherbird'},\n",
       " {'id': 24, 'name': 'cheetah'},\n",
       " {'id': 25, 'name': 'honeybadger'},\n",
       " {'id': 26, 'name': 'bushbuck'},\n",
       " {'id': 27, 'name': 'jackal'},\n",
       " {'id': 28, 'name': 'aardwolf'},\n",
       " {'id': 29, 'name': 'hippopotamus'},\n",
       " {'id': 30, 'name': 'hyenastriped'},\n",
       " {'id': 31, 'name': 'hare'},\n",
       " {'id': 32, 'name': 'baboon'},\n",
       " {'id': 33, 'name': 'monkeyvervet'},\n",
       " {'id': 34, 'name': 'batearedfox'},\n",
       " {'id': 35, 'name': 'waterbuck'},\n",
       " {'id': 36, 'name': 'secretarybird'},\n",
       " {'id': 37, 'name': 'topi'},\n",
       " {'id': 38, 'name': 'serval'},\n",
       " {'id': 39, 'name': 'lionmale'},\n",
       " {'id': 40, 'name': 'eland'},\n",
       " {'id': 41, 'name': 'rodents'},\n",
       " {'id': 42, 'name': 'wildcat'},\n",
       " {'id': 43, 'name': 'civet'},\n",
       " {'id': 44, 'name': 'genet'},\n",
       " {'id': 45, 'name': 'zorilla'},\n",
       " {'id': 46, 'name': 'caracal'},\n",
       " {'id': 47, 'name': 'rhinoceros'},\n",
       " {'id': 48, 'name': 'reptiles'},\n",
       " {'id': 49, 'name': 'insectspider'},\n",
       " {'id': 50, 'name': 'duiker'},\n",
       " {'id': 51, 'name': 'cattle'},\n",
       " {'id': 52, 'name': 'vulture'},\n",
       " {'id': 53, 'name': 'steenbok'},\n",
       " {'id': 54, 'name': 'bat'},\n",
       " {'id': 55, 'name': 'fire'},\n",
       " {'id': 56, 'name': 'hyenabrown'},\n",
       " {'id': 57, 'name': 'wilddog'},\n",
       " {'id': 58, 'name': 'kudu'},\n",
       " {'id': 59, 'name': 'pangolin'},\n",
       " {'id': 60, 'name': 'lioncub'}]"
      ]
     },
     "execution_count": 10,
     "metadata": {},
     "output_type": "execute_result"
    }
   ],
   "source": [
    "len(ss_season1_db['categories'])\n",
    "sorted(ss_season1_db['categories'], key=lambda x: x['id'])"
   ]
  },
  {
   "cell_type": "code",
   "execution_count": 11,
   "metadata": {},
   "outputs": [],
   "source": [
    "# ! Updated bbox json with insect and distant birds excluded\n",
    "with open('/beaver_disk/camtrap/ss_season1/original/SnapshotSerengetiBboxes_20190903.json') as f:\n",
    "    ss_boxes = json.load(f)"
   ]
  },
  {
   "cell_type": "code",
   "execution_count": 12,
   "metadata": {},
   "outputs": [
    {
     "data": {
      "text/plain": [
       "82938"
      ]
     },
     "execution_count": 12,
     "metadata": {},
     "output_type": "execute_result"
    },
    {
     "data": {
      "text/plain": [
       "146359"
      ]
     },
     "execution_count": 12,
     "metadata": {},
     "output_type": "execute_result"
    }
   ],
   "source": [
    "len(ss_boxes['images'])\n",
    "len(ss_boxes['annotations'])"
   ]
  },
  {
   "cell_type": "code",
   "execution_count": 13,
   "metadata": {},
   "outputs": [
    {
     "data": {
      "text/plain": [
       "[{'id': 1, 'name': 'animal'},\n",
       " {'id': 2, 'name': 'person'},\n",
       " {'id': 3, 'name': 'group'},\n",
       " {'id': 4, 'name': 'vehicle'}]"
      ]
     },
     "execution_count": 13,
     "metadata": {},
     "output_type": "execute_result"
    }
   ],
   "source": [
    "ss_boxes['categories']"
   ]
  },
  {
   "cell_type": "code",
   "execution_count": 14,
   "metadata": {},
   "outputs": [
    {
     "data": {
      "text/plain": [
       "{'bbox': [0, 0, 1057.5135192871116, 802.8107910156289],\n",
       " 'category_id': 1,\n",
       " 'id': 'IXQwi1533020694359',\n",
       " 'image_id': 'S1/E06/E06_R1/S1_E06_R1_PICT0018'}"
      ]
     },
     "execution_count": 14,
     "metadata": {},
     "output_type": "execute_result"
    }
   ],
   "source": [
    "ss_boxes['annotations'][100]"
   ]
  },
  {
   "cell_type": "code",
   "execution_count": 15,
   "metadata": {},
   "outputs": [
    {
     "data": {
      "text/plain": [
       "{'contributor': 'Sara Beery, this version updated by Siyu Yang',\n",
       " 'date_created': '2019-09-03',\n",
       " 'description': 'Reprocessed bounding box annotations for Snapshot Serengeti seasons 1 to 6, with remaining small insect and distant bird bboxes smaller than 400 sq pixel excluded manually.',\n",
       " 'version': '20190903',\n",
       " 'year': 2019}"
      ]
     },
     "execution_count": 15,
     "metadata": {},
     "output_type": "execute_result"
    }
   ],
   "source": [
    "ss_boxes['info']"
   ]
  },
  {
   "cell_type": "code",
   "execution_count": 16,
   "metadata": {},
   "outputs": [],
   "source": [
    "ss_boxes_season1 = {\n",
    "    'images': [i for i in ss_boxes['images'] if i['id'].startswith('S1/')],\n",
    "    'annotations': [a for a in ss_boxes['annotations'] if 'image_id' in a and a['image_id'].startswith('S1/')],\n",
    "    'categories': ss_boxes['categories'],\n",
    "    'info': {\n",
    "        'contributor': 'SMB',\n",
    "        'date_created': '2019-04-14',\n",
    "        'description': 'Reprocessed bounding box annotations for Snapshot Serengeti season 1. Based on Bbox DB version 20190903.',\n",
    "        'version': '20190903',\n",
    "        'year': 2019\n",
    "    }\n",
    "}"
   ]
  },
  {
   "cell_type": "code",
   "execution_count": 17,
   "metadata": {},
   "outputs": [
    {
     "data": {
      "text/plain": [
       "12377"
      ]
     },
     "execution_count": 17,
     "metadata": {},
     "output_type": "execute_result"
    },
    {
     "data": {
      "text/plain": [
       "19387"
      ]
     },
     "execution_count": 17,
     "metadata": {},
     "output_type": "execute_result"
    }
   ],
   "source": [
    "len(ss_boxes_season1['images'])\n",
    "len(ss_boxes_season1['annotations'])"
   ]
  },
  {
   "cell_type": "code",
   "execution_count": 18,
   "metadata": {},
   "outputs": [],
   "source": [
    "with open('/beaver_disk/camtrap/ss_season1/benchmark/SnapshotSerengetiBboxesS01_20190903.json', 'w') as f:\n",
    "    json.dump(ss_boxes_season1, f, indent=1)"
   ]
  },
  {
   "cell_type": "markdown",
   "metadata": {},
   "source": [
    "# Separate out DB for train and val\n",
    "\n",
    "For both images and bounding boxes DBs since categories have different meaning in each set."
   ]
  },
  {
   "cell_type": "markdown",
   "metadata": {},
   "source": [
    "## CCT\n",
    "\n",
    "Only using the CCT-20 locations!"
   ]
  },
  {
   "cell_type": "code",
   "execution_count": 11,
   "metadata": {},
   "outputs": [
    {
     "data": {
      "text/plain": [
       "10"
      ]
     },
     "execution_count": 11,
     "metadata": {},
     "output_type": "execute_result"
    },
    {
     "data": {
      "text/plain": [
       "10"
      ]
     },
     "execution_count": 11,
     "metadata": {},
     "output_type": "execute_result"
    }
   ],
   "source": [
    "cct_train_split = set(cct_splits['splits']['eccv_train'])\n",
    "cct_val_split = set(cct_splits['splits']['eccv_val'])\n",
    "len(cct_train_split)\n",
    "len(cct_val_split)"
   ]
  },
  {
   "cell_type": "markdown",
   "metadata": {},
   "source": [
    "There are some locations such as '120' that are repeated in the training split (but `eccv_train` is fine)."
   ]
  },
  {
   "cell_type": "markdown",
   "metadata": {},
   "source": [
    "### CCT images DBs"
   ]
  },
  {
   "cell_type": "code",
   "execution_count": 17,
   "metadata": {},
   "outputs": [
    {
     "name": "stdout",
     "output_type": "stream",
     "text": [
      "Original DB has 244497 image and 244577 annotation entries.\n",
      "New DB has 32865 image and 32873 annotation entries.\n"
     ]
    }
   ],
   "source": [
    "cct_train_db = CameraTrapJsonUtils.get_entries_from_locations(cct_db, cct_train_split)"
   ]
  },
  {
   "cell_type": "code",
   "execution_count": 18,
   "metadata": {},
   "outputs": [],
   "source": [
    "cct_train_db['categories'] = cct_db['categories']\n",
    "cct_train_db['info'] = deepcopy(cct_db['info'])"
   ]
  },
  {
   "cell_type": "code",
   "execution_count": 19,
   "metadata": {},
   "outputs": [
    {
     "data": {
      "text/plain": [
       "'Training split of the ECCV subset of Caltech Camera Traps: camera trap images collected from the NPS and the USGS with help from Justin Brown and Erin Boydston'"
      ]
     },
     "execution_count": 19,
     "metadata": {},
     "output_type": "execute_result"
    }
   ],
   "source": [
    "cct_train_db['info']['description'] = 'Training split of the ECCV subset of ' + cct_train_db['info']['description']\n",
    "cct_train_db['info']['description']"
   ]
  },
  {
   "cell_type": "code",
   "execution_count": 21,
   "metadata": {},
   "outputs": [],
   "source": [
    "cct_train_db = CameraTrapJsonUtils.order_db_keys(cct_train_db)\n",
    "with open('/beaver_disk/camtrap/caltech/benchmark/cct-20/CaltechCameraTraps-20_v2.1_train.json', 'w') as f:\n",
    "    json.dump(cct_train_db, f, indent=1)"
   ]
  },
  {
   "cell_type": "code",
   "execution_count": null,
   "metadata": {},
   "outputs": [],
   "source": []
  },
  {
   "cell_type": "code",
   "execution_count": 17,
   "metadata": {},
   "outputs": [
    {
     "name": "stdout",
     "output_type": "stream",
     "text": [
      "Original DB has 244497 image and 244577 annotation entries.\n",
      "New DB has 25000 image and 25070 annotation entries.\n"
     ]
    }
   ],
   "source": [
    "cct_val_db = CameraTrapJsonUtils.get_entries_from_locations(cct_db, cct_val_split)"
   ]
  },
  {
   "cell_type": "code",
   "execution_count": 22,
   "metadata": {},
   "outputs": [],
   "source": [
    "cct_val_db['categories'] = cct_db['categories']\n",
    "cct_val_db['info'] = deepcopy(cct_db['info'])"
   ]
  },
  {
   "cell_type": "code",
   "execution_count": 23,
   "metadata": {},
   "outputs": [
    {
     "data": {
      "text/plain": [
       "'Val split of the ECCV subset of Caltech Camera Traps: camera trap images collected from the NPS and the USGS with help from Justin Brown and Erin Boydston'"
      ]
     },
     "execution_count": 23,
     "metadata": {},
     "output_type": "execute_result"
    }
   ],
   "source": [
    "cct_val_db['info']['description'] = 'Val split of the ECCV subset of ' + cct_val_db['info']['description']\n",
    "cct_val_db['info']['description']"
   ]
  },
  {
   "cell_type": "code",
   "execution_count": 25,
   "metadata": {},
   "outputs": [],
   "source": [
    "cct_val_db = CameraTrapJsonUtils.order_db_keys(cct_val_db)\n",
    "with open('/beaver_disk/camtrap/caltech/benchmark/cct-20/CaltechCameraTraps-20_v2.1_val.json', 'w') as f:\n",
    "    json.dump(cct_val_db, f, indent=1)"
   ]
  },
  {
   "cell_type": "code",
   "execution_count": 35,
   "metadata": {},
   "outputs": [
    {
     "data": {
      "text/plain": [
       "[{'id': 6, 'name': 'bobcat'},\n",
       " {'id': 1, 'name': 'opossum'},\n",
       " {'id': 30, 'name': 'empty'},\n",
       " {'id': 9, 'name': 'coyote'},\n",
       " {'id': 3, 'name': 'raccoon'},\n",
       " {'id': 11, 'name': 'bird'},\n",
       " {'id': 8, 'name': 'dog'},\n",
       " {'id': 16, 'name': 'cat'},\n",
       " {'id': 5, 'name': 'squirrel'},\n",
       " {'id': 10, 'name': 'rabbit'},\n",
       " {'id': 7, 'name': 'skunk'},\n",
       " {'id': 14, 'name': 'lizard'},\n",
       " {'id': 99, 'name': 'rodent'},\n",
       " {'id': 21, 'name': 'badger'},\n",
       " {'id': 34, 'name': 'deer'},\n",
       " {'id': 37, 'name': 'cow'},\n",
       " {'id': 33, 'name': 'car'},\n",
       " {'id': 51, 'name': 'fox'},\n",
       " {'id': 39, 'name': 'pig'},\n",
       " {'id': 40, 'name': 'mountain_lion'},\n",
       " {'id': 66, 'name': 'bat'},\n",
       " {'id': 97, 'name': 'insect'},\n",
       " {'id': 999, 'name': 'unlabeled_animal'}]"
      ]
     },
     "execution_count": 35,
     "metadata": {},
     "output_type": "execute_result"
    }
   ],
   "source": [
    "cct_train_db['categories']"
   ]
  },
  {
   "cell_type": "code",
   "execution_count": 33,
   "metadata": {},
   "outputs": [],
   "source": [
    "empty_train = []\n",
    "for i in cct_train_db['annotations']:\n",
    "    if i['category_id'] == 30:\n",
    "        empty_train.append(i)"
   ]
  },
  {
   "cell_type": "markdown",
   "metadata": {},
   "source": [
    "### CCT bboxes DBs\n",
    "\n",
    "The `location` field in the bbox DB are int instead of str..."
   ]
  },
  {
   "cell_type": "code",
   "execution_count": 13,
   "metadata": {},
   "outputs": [
    {
     "name": "stdout",
     "output_type": "stream",
     "text": [
      "Original DB has 63102 image and 66406 annotation entries.\n",
      "New DB has 26460 image and 27644 annotation entries.\n"
     ]
    }
   ],
   "source": [
    "cct_train_boxes = CameraTrapJsonUtils.get_entries_from_locations(cct_boxes, cct_train_split)\n",
    "\n",
    "cct_train_boxes['categories'] = cct_boxes['categories']\n",
    "cct_train_boxes['info'] = deepcopy(cct_boxes['info'])"
   ]
  },
  {
   "cell_type": "code",
   "execution_count": 14,
   "metadata": {},
   "outputs": [],
   "source": [
    "cct_train_boxes['categories'] = cct_boxes['categories']\n",
    "cct_train_boxes['info'] = deepcopy(cct_boxes['info'])"
   ]
  },
  {
   "cell_type": "code",
   "execution_count": 15,
   "metadata": {},
   "outputs": [
    {
     "data": {
      "text/plain": [
       "'Training split of the ECCV subset of Bounding box annotations for 63,102 images from Caltech Camera Traps, covering all classes and locations.  Contains all annotations for CCT - 20, the 20-location dataset used in the ECCV18 paper \"Recognition in Terra Incognita,\" as well as additional annotations collected by MS AI for Earth. Version 20190904 has the categories normed to the four detector categories.'"
      ]
     },
     "execution_count": 15,
     "metadata": {},
     "output_type": "execute_result"
    }
   ],
   "source": [
    "cct_train_boxes['info']['description'] = 'Training split of the ECCV subset of ' + cct_train_boxes['info']['description']\n",
    "cct_train_boxes['info']['description']"
   ]
  },
  {
   "cell_type": "code",
   "execution_count": 16,
   "metadata": {},
   "outputs": [],
   "source": [
    "cct_train_boxes = CameraTrapJsonUtils.order_db_keys(cct_train_boxes)\n",
    "with open('/beaver_disk/camtrap/caltech/benchmark/cct-20/caltech-20_bboxes_20190904_train.json', 'w') as f:\n",
    "    json.dump(cct_train_boxes, f, indent=1)"
   ]
  },
  {
   "cell_type": "code",
   "execution_count": null,
   "metadata": {},
   "outputs": [],
   "source": []
  },
  {
   "cell_type": "code",
   "execution_count": 17,
   "metadata": {},
   "outputs": [
    {
     "name": "stdout",
     "output_type": "stream",
     "text": [
      "Original DB has 63102 image and 66406 annotation entries.\n",
      "New DB has 19566 image and 20459 annotation entries.\n"
     ]
    },
    {
     "data": {
      "text/plain": [
       "'Val split of the ECCV subset of Bounding box annotations for 63,102 images from Caltech Camera Traps, covering all classes and locations.  Contains all annotations for CCT - 20, the 20-location dataset used in the ECCV18 paper \"Recognition in Terra Incognita,\" as well as additional annotations collected by MS AI for Earth. Version 20190904 has the categories normed to the four detector categories.'"
      ]
     },
     "execution_count": 17,
     "metadata": {},
     "output_type": "execute_result"
    }
   ],
   "source": [
    "cct_val_boxes = CameraTrapJsonUtils.get_entries_from_locations(cct_boxes, cct_val_split)\n",
    "\n",
    "cct_val_boxes['categories'] = cct_boxes['categories']\n",
    "cct_val_boxes['info'] = deepcopy(cct_boxes['info'])\n",
    "\n",
    "cct_val_boxes['info']['description'] = 'Val split of the ECCV subset of ' + cct_val_boxes['info']['description']\n",
    "cct_val_boxes['info']['description']\n",
    "\n",
    "cct_val_boxes = CameraTrapJsonUtils.order_db_keys(cct_val_boxes)\n",
    "with open('/beaver_disk/camtrap/caltech/benchmark/cct-20/caltech-20_bboxes_20190904_val.json', 'w') as f:\n",
    "    json.dump(cct_val_boxes, f, indent=1)"
   ]
  },
  {
   "cell_type": "markdown",
   "metadata": {},
   "source": [
    "## SS Season 1"
   ]
  },
  {
   "cell_type": "code",
   "execution_count": 19,
   "metadata": {},
   "outputs": [
    {
     "data": {
      "text/plain": [
       "179"
      ]
     },
     "execution_count": 19,
     "metadata": {},
     "output_type": "execute_result"
    },
    {
     "data": {
      "text/plain": [
       "46"
      ]
     },
     "execution_count": 19,
     "metadata": {},
     "output_type": "execute_result"
    }
   ],
   "source": [
    "ss_train_split = set(ss_splits['splits']['train'])\n",
    "ss_val_split = set(ss_splits['splits']['val'])\n",
    "len(ss_train_split)\n",
    "len(ss_val_split)"
   ]
  },
  {
   "cell_type": "markdown",
   "metadata": {},
   "source": [
    "### SS Season 1 images DB"
   ]
  },
  {
   "cell_type": "code",
   "execution_count": 101,
   "metadata": {},
   "outputs": [
    {
     "name": "stdout",
     "output_type": "stream",
     "text": [
      "Original DB has 411414 image and 412858 annotation entries.\n",
      "New DB has 314591 image and 315605 annotation entries.\n"
     ]
    },
    {
     "data": {
      "text/plain": [
       "'Train split of Camera trap data from the Snapshot Serengeti program, season 1'"
      ]
     },
     "execution_count": 101,
     "metadata": {},
     "output_type": "execute_result"
    }
   ],
   "source": [
    "ss1_train_db = CameraTrapJsonUtils.get_entries_from_locations(ss_season1_db, ss_train_split)\n",
    "\n",
    "ss1_train_db['categories'] = ss_season1_db['categories']\n",
    "ss1_train_db['info'] = deepcopy(ss_season1_db['info'])\n",
    "\n",
    "ss1_train_db['info']['description'] = 'Train split of ' + ss1_train_db['info']['description']\n",
    "ss1_train_db['info']['description']\n",
    "\n",
    "ss1_train_db = CameraTrapJsonUtils.order_db_keys(ss1_train_db)\n",
    "with open('/beaver_disk/camtrap/ss_season1/benchmark/SnapshotSerengetiS01_train.json', 'w') as f:\n",
    "    json.dump(ss1_train_db, f, indent=1)"
   ]
  },
  {
   "cell_type": "code",
   "execution_count": 20,
   "metadata": {},
   "outputs": [
    {
     "name": "stdout",
     "output_type": "stream",
     "text": [
      "Original DB has 411414 image and 412858 annotation entries.\n",
      "New DB has 96823 image and 97253 annotation entries.\n"
     ]
    },
    {
     "data": {
      "text/plain": [
       "'Val split of Camera trap data from the Snapshot Serengeti program, season 1'"
      ]
     },
     "execution_count": 20,
     "metadata": {},
     "output_type": "execute_result"
    }
   ],
   "source": [
    "ss1_val_db = CameraTrapJsonUtils.get_entries_from_locations(ss_season1_db, ss_val_split)\n",
    "\n",
    "ss1_val_db['categories'] = ss_season1_db['categories']\n",
    "ss1_val_db['info'] = deepcopy(ss_season1_db['info'])\n",
    "\n",
    "ss1_val_db['info']['description'] = 'Val split of ' + ss1_val_db['info']['description']\n",
    "ss1_val_db['info']['description']\n",
    "\n",
    "ss1_val_db = CameraTrapJsonUtils.order_db_keys(ss1_val_db)\n",
    "with open('/beaver_disk/camtrap/ss_season1/benchmark/SnapshotSerengetiS01_val.json', 'w') as f:\n",
    "    json.dump(ss1_val_db, f, indent=1)"
   ]
  },
  {
   "cell_type": "markdown",
   "metadata": {},
   "source": [
    "### SS Season 1 bboxes DB"
   ]
  },
  {
   "cell_type": "code",
   "execution_count": 21,
   "metadata": {},
   "outputs": [
    {
     "name": "stdout",
     "output_type": "stream",
     "text": [
      "Original DB has 12377 image and 19387 annotation entries.\n",
      "New DB has 9244 image and 14949 annotation entries.\n"
     ]
    },
    {
     "data": {
      "text/plain": [
       "'Train split of Reprocessed bounding box annotations for Snapshot Serengeti season 1. Based on Bbox DB version 20190903.'"
      ]
     },
     "execution_count": 21,
     "metadata": {},
     "output_type": "execute_result"
    }
   ],
   "source": [
    "ss1_train_boxes = CameraTrapJsonUtils.get_entries_from_locations(ss_boxes_season1, ss_train_split)\n",
    "\n",
    "ss1_train_boxes['categories'] = ss_boxes_season1['categories']\n",
    "ss1_train_boxes['info'] = deepcopy(ss_boxes_season1['info'])\n",
    "\n",
    "ss1_train_boxes['info']['description'] = 'Train split of ' + ss1_train_boxes['info']['description']\n",
    "ss1_train_boxes['info']['description']\n",
    "\n",
    "ss1_train_boxes = CameraTrapJsonUtils.order_db_keys(ss1_train_boxes)\n",
    "with open('/beaver_disk/camtrap/ss_season1/benchmark/SnapshotSerengetiBboxesS01_20190903_train.json', 'w') as f:\n",
    "    json.dump(ss1_train_boxes, f, indent=1)"
   ]
  },
  {
   "cell_type": "code",
   "execution_count": 22,
   "metadata": {},
   "outputs": [
    {
     "name": "stdout",
     "output_type": "stream",
     "text": [
      "Original DB has 12377 image and 19387 annotation entries.\n",
      "New DB has 3133 image and 4438 annotation entries.\n"
     ]
    },
    {
     "data": {
      "text/plain": [
       "'Val split of Train split of Reprocessed bounding box annotations for Snapshot Serengeti season 1. Based on Bbox DB version 20190903.'"
      ]
     },
     "execution_count": 22,
     "metadata": {},
     "output_type": "execute_result"
    }
   ],
   "source": [
    "ss1_val_boxes = CameraTrapJsonUtils.get_entries_from_locations(ss_boxes_season1, ss_val_split)\n",
    "\n",
    "ss1_val_boxes['categories'] = ss_boxes_season1['categories']\n",
    "ss1_val_boxes['info'] = deepcopy(ss_boxes_season1['info'])\n",
    "\n",
    "ss1_val_boxes['info']['description'] = 'Val split of ' + ss1_train_boxes['info']['description']\n",
    "ss1_val_boxes['info']['description']\n",
    "\n",
    "ss1_val_boxes = CameraTrapJsonUtils.order_db_keys(ss1_val_boxes)\n",
    "with open('/beaver_disk/camtrap/ss_season1/benchmark/SnapshotSerengetiBboxesS01_20190903_val.json', 'w') as f:\n",
    "    json.dump(ss1_val_boxes, f, indent=1)"
   ]
  },
  {
   "cell_type": "code",
   "execution_count": null,
   "metadata": {},
   "outputs": [],
   "source": []
  }
 ],
 "metadata": {
  "kernelspec": {
   "display_name": "Python [default]",
   "language": "python",
   "name": "python3"
  },
  "language_info": {
   "codemirror_mode": {
    "name": "ipython",
    "version": 3
   },
   "file_extension": ".py",
   "mimetype": "text/x-python",
   "name": "python",
   "nbconvert_exporter": "python",
   "pygments_lexer": "ipython3",
   "version": "3.5.5"
  }
 },
 "nbformat": 4,
 "nbformat_minor": 2
}
