{
 "cells": [
  {
   "cell_type": "code",
   "execution_count": 1,
   "metadata": {},
   "outputs": [],
   "source": [
    "from IPython.core.interactiveshell import InteractiveShell\n",
    "InteractiveShell.ast_node_interactivity = 'all'  # default is ‘last_expr’\n",
    "\n",
    "%load_ext autoreload\n",
    "%autoreload 2"
   ]
  },
  {
   "cell_type": "code",
   "execution_count": 2,
   "metadata": {},
   "outputs": [],
   "source": [
    "import sys\n",
    "sys.path.append('/data/home/marmot/camtrap/PyCharm/CameraTraps-benchmark')"
   ]
  },
  {
   "cell_type": "code",
   "execution_count": 3,
   "metadata": {},
   "outputs": [],
   "source": [
    "import json\n",
    "import os\n",
    "from collections import OrderedDict, defaultdict, Counter\n",
    "from copy import deepcopy\n",
    "from random import sample\n",
    "\n",
    "from PIL import Image\n",
    "import numpy as np\n",
    "import matplotlib.pyplot as plt\n",
    "\n",
    "from data_management.cct_json_utils import CameraTrapJsonUtils, IndexedJsonDb\n",
    "from visualization.visualization_utils import plot_stacked_bar_chart"
   ]
  },
  {
   "cell_type": "markdown",
   "metadata": {},
   "source": [
    "## Species distribution"
   ]
  },
  {
   "cell_type": "code",
   "execution_count": 81,
   "metadata": {},
   "outputs": [],
   "source": [
    "def show_species_dist(file_template, plot_title='', ordered_species_list=None, log_scale=False):\n",
    "    \n",
    "    # combine train and val splits for the image databases\n",
    "    all_images = []\n",
    "    all_annotations = []\n",
    "\n",
    "    for i in ('train', 'val'):\n",
    "        with open(file_template.format(i)) as f:\n",
    "            db = json.load(f)\n",
    "        print('{} has {} images, {} annotations'.format(i, len(db['images']), len(db['annotations'])))\n",
    "        all_images.extend(db['images'])\n",
    "        all_annotations.extend(db['annotations'])\n",
    "\n",
    "    print('In total there are {} images, {} annotations'.format(len(all_images), len(all_annotations)))\n",
    "    \n",
    "    db_indexed = IndexedJsonDb(db)  # assume both train and val have the same categories field\n",
    "\n",
    "    # get species by location\n",
    "    \n",
    "    image_to_loc = {}\n",
    "    loc_to_species = defaultdict(Counter)\n",
    "\n",
    "    for i in all_images:\n",
    "        image_to_loc[i['id']] = i['location']\n",
    "\n",
    "    for a in all_annotations:\n",
    "        cat_name = db_indexed.cat_id_to_name[a['category_id']]\n",
    "        loc = image_to_loc[a['image_id']]\n",
    "        loc_to_species[loc].update([cat_name])\n",
    "    \n",
    "    all_species = set()\n",
    "    for v in loc_to_species.values():\n",
    "        for k in v.keys():\n",
    "            all_species.add(k)\n",
    "            \n",
    "    print('\\nThere are {} species:'.format(len(all_species)))\n",
    "    print(all_species)\n",
    "    \n",
    "    if not ordered_species_list:\n",
    "        ordered_species_list = []\n",
    "    \n",
    "    # get the series labels (the species)\n",
    "    if len(ordered_species_list) < 20:\n",
    "        for s in sorted(list(all_species)):\n",
    "            if s not in ordered_species_list:\n",
    "                ordered_species_list.append(s)\n",
    "    print('\\nordered_species_list of {} items:'.format(len(ordered_species_list)))\n",
    "    print(ordered_species_list)\n",
    "    \n",
    "    loc_to_species_sorted = sorted(loc_to_species.items(), key=lambda x: sum(x[1].values()), reverse=True)\n",
    "\n",
    "#     print('')\n",
    "#     for index, item in enumerate(loc_to_species_sorted):\n",
    "#         print(index, item)  # the same content as the plot\n",
    "        \n",
    "    series_labels = ordered_species_list\n",
    "    col_labels = [x[0] for x in loc_to_species_sorted] # locations are the key in loc_to_species_sorted\n",
    "    \n",
    "    species_data = []\n",
    "    for s in series_labels:\n",
    "        s_across_locs = []\n",
    "        for loc, counter in loc_to_species_sorted:\n",
    "            s_across_locs.append(counter[s])\n",
    "        species_data.append(s_across_locs)\n",
    "    \n",
    "    fig = plot_stacked_bar_chart(species_data, series_labels, col_labels=col_labels, \n",
    "                             x_label='Location ID', \n",
    "                             y_label='Number of images', log_scale=log_scale)\n",
    "\n",
    "    fig.suptitle(plot_title)\n",
    "    \n",
    "    return fig"
   ]
  },
  {
   "cell_type": "markdown",
   "metadata": {},
   "source": [
    "### Species distribution - CCT"
   ]
  },
  {
   "cell_type": "code",
   "execution_count": 83,
   "metadata": {},
   "outputs": [
    {
     "name": "stdout",
     "output_type": "stream",
     "text": [
      "train has 32865 images, 32873 annotations\n",
      "val has 25000 images, 25070 annotations\n",
      "In total there are 57865 images, 57943 annotations\n",
      "\n",
      "There are 17 species:\n",
      "{'deer', 'bobcat', 'skunk', 'empty', 'dog', 'rabbit', 'squirrel', 'opossum', 'rodent', 'car', 'badger', 'fox', 'bird', 'unlabeled_animal', 'raccoon', 'cat', 'coyote'}\n",
      "\n",
      "ordered_species_list of 17 items:\n",
      "['empty', 'unlabeled_animal', 'car', 'badger', 'bird', 'bobcat', 'cat', 'coyote', 'deer', 'dog', 'fox', 'opossum', 'rabbit', 'raccoon', 'rodent', 'skunk', 'squirrel']\n"
     ]
    },
    {
     "data": {
      "image/png": "[encoded data removed]",
      "text/plain": [
       "<Figure size 432x288 with 1 Axes>"
      ]
     },
     "metadata": {},
     "output_type": "display_data"
    }
   ],
   "source": [
    "file_template = '/beaver_disk/camtrap/caltech/benchmark/cct-20/CaltechCameraTraps-20_v2.1_{}.json'\n",
    "ordered_species = ['empty', 'unlabeled_animal', 'car']  # if you want to control the first few species\n",
    "plot_title = 'CCT-20'\n",
    "\n",
    "fig = show_species_dist(file_template, plot_title=plot_title, ordered_species_list=ordered_species)"
   ]
  },
  {
   "cell_type": "markdown",
   "metadata": {},
   "source": [
    "### Species distribution - SS season 1\n",
    "\n",
    "49 species is too many to show. Show top 20 instead"
   ]
  },
  {
   "cell_type": "code",
   "execution_count": 88,
   "metadata": {},
   "outputs": [],
   "source": [
    "ss_file_template = '/beaver_disk/camtrap/ss_season1/benchmark/SnapshotSerengetiS01_{}.json'"
   ]
  },
  {
   "cell_type": "code",
   "execution_count": 89,
   "metadata": {},
   "outputs": [
    {
     "name": "stdout",
     "output_type": "stream",
     "text": [
      "train has 314591 images, 315605 annotations\n",
      "val has 96823 images, 97253 annotations\n"
     ]
    }
   ],
   "source": [
    "# get the most populous species\n",
    "ss_s1_all_annotations = []\n",
    "\n",
    "for i in ('train', 'val'):\n",
    "    with open(ss_file_template.format(i)) as f:\n",
    "        db = json.load(f)\n",
    "    print('{} has {} images, {} annotations'.format(i, len(db['images']), len(db['annotations'])))\n",
    "    ss_s1_all_annotations.extend(db['annotations'])\n",
    "\n",
    "db_indexed = IndexedJsonDb(db) # assume same categories in train and val\n",
    "    \n",
    "species_counter = Counter()\n",
    "for a in ss_s1_all_annotations:\n",
    "    cat_name = db_indexed.cat_id_to_name[a['category_id']]\n",
    "    species_counter.update([cat_name])\n",
    "\n",
    "species_counter_sorted = sorted(species_counter.items(), key=lambda x: x[1], reverse=True)"
   ]
  },
  {
   "cell_type": "code",
   "execution_count": 95,
   "metadata": {},
   "outputs": [],
   "source": [
    "species_counter_sorted_no_reverse = sorted(species_counter.items(), key=lambda x: x[1])"
   ]
  },
  {
   "cell_type": "code",
   "execution_count": 99,
   "metadata": {},
   "outputs": [
    {
     "data": {
      "text/plain": [
       "[('koribustard', 591),\n",
       " ('lionmale', 665),\n",
       " ('wildebeest', 689),\n",
       " ('impala', 691),\n",
       " ('dikdik', 728),\n",
       " ('reedbuck', 946),\n",
       " ('buffalo', 1455),\n",
       " ('lionfemale', 1519),\n",
       " ('elephant', 1687),\n",
       " ('giraffe', 1923),\n",
       " ('hartebeest', 2139),\n",
       " ('otherbird', 2322),\n",
       " ('warthog', 2685),\n",
       " ('hyenaspotted', 2752),\n",
       " ('guineafowl', 3217),\n",
       " ('human', 4802),\n",
       " ('gazellegrants', 4967),\n",
       " ('zebra', 5592),\n",
       " ('gazellethomsons', 29705),\n",
       " ('empty', 338837)]"
      ]
     },
     "execution_count": 99,
     "metadata": {},
     "output_type": "execute_result"
    }
   ],
   "source": [
    "species_counter_sorted_no_reverse[-20:]\n",
    "\n",
    "top_20 = [i[0] for i in species_counter_sorted_no_reverse[-20:]]"
   ]
  },
  {
   "cell_type": "code",
   "execution_count": 101,
   "metadata": {},
   "outputs": [
    {
     "name": "stdout",
     "output_type": "stream",
     "text": [
      "train has 314591 images, 315605 annotations\n",
      "val has 96823 images, 97253 annotations\n",
      "In total there are 411414 images, 412858 annotations\n",
      "\n",
      "There are 49 species:\n",
      "{'genet', 'honeybadger', 'guineafowl', 'ostrich', 'lionmale', 'monkeyvervet', 'buffalo', 'hyenastriped', 'civet', 'hare', 'lionfemale', 'reptiles', 'wildebeest', 'caracal', 'hartebeest', 'secretarybird', 'empty', 'koribustard', 'rhinoceros', 'human', 'bushbuck', 'reedbuck', 'elephant', 'rodents', 'otherbird', 'topi', 'zebra', 'hyenaspotted', 'aardwolf', 'warthog', 'hippopotamus', 'porcupine', 'baboon', 'gazellegrants', 'zorilla', 'giraffe', 'impala', 'waterbuck', 'serval', 'mongoose', 'wildcat', 'eland', 'gazellethomsons', 'batearedfox', 'aardvark', 'jackal', 'leopard', 'cheetah', 'dikdik'}\n",
      "\n",
      "ordered_species_list of 20 items:\n",
      "['koribustard', 'lionmale', 'wildebeest', 'impala', 'dikdik', 'reedbuck', 'buffalo', 'lionfemale', 'elephant', 'giraffe', 'hartebeest', 'otherbird', 'warthog', 'hyenaspotted', 'guineafowl', 'human', 'gazellegrants', 'zebra', 'gazellethomsons', 'empty']\n"
     ]
    },
    {
     "data": {
      "image/png": "[encoded data removed]",
      "text/plain": [
       "<Figure size 432x288 with 1 Axes>"
      ]
     },
     "metadata": {},
     "output_type": "display_data"
    }
   ],
   "source": [
    "plot_title = 'SS Season 1'\n",
    "\n",
    "fig = show_species_dist(ss_file_template, plot_title=plot_title, ordered_species_list=top_20, log_scale=True)"
   ]
  },
  {
   "cell_type": "code",
   "execution_count": null,
   "metadata": {},
   "outputs": [],
   "source": []
  },
  {
   "cell_type": "code",
   "execution_count": null,
   "metadata": {},
   "outputs": [],
   "source": []
  },
  {
   "cell_type": "code",
   "execution_count": null,
   "metadata": {},
   "outputs": [],
   "source": []
  },
  {
   "cell_type": "code",
   "execution_count": null,
   "metadata": {},
   "outputs": [],
   "source": []
  }
 ],
 "metadata": {
  "kernelspec": {
   "display_name": "Python [default]",
   "language": "python",
   "name": "python3"
  },
  "language_info": {
   "codemirror_mode": {
    "name": "ipython",
    "version": 3
   },
   "file_extension": ".py",
   "mimetype": "text/x-python",
   "name": "python",
   "nbconvert_exporter": "python",
   "pygments_lexer": "ipython3",
   "version": "3.5.5"
  }
 },
 "nbformat": 4,
 "nbformat_minor": 1
}
