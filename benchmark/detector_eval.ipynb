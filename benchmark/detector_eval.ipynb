{
 "cells": [
  {
   "cell_type": "code",
   "execution_count": 1,
   "metadata": {},
   "outputs": [],
   "source": [
    "from IPython.core.interactiveshell import InteractiveShell\n",
    "InteractiveShell.ast_node_interactivity = 'all'  # default is ‘last_expr’\n",
    "\n",
    "%load_ext autoreload\n",
    "%autoreload 2"
   ]
  },
  {
   "cell_type": "code",
   "execution_count": 2,
   "metadata": {},
   "outputs": [],
   "source": [
    "import sys\n",
    "sys.path.append('/data/home/marmot/camtrap/PyCharm/CameraTraps-benchmark')\n",
    "sys.path.append('/data/home/marmot/camtrap/PyCharm/CameraTraps-benchmark/detection/detector_eval')"
   ]
  },
  {
   "cell_type": "code",
   "execution_count": 3,
   "metadata": {},
   "outputs": [],
   "source": [
    "import json\n",
    "import os\n",
    "from collections import defaultdict\n",
    "\n",
    "from detection.detector_eval import detector_eval\n",
    "from data_management import cct_json_utils\n",
    "from visualization.visualization_utils import plot_precision_recall_curve"
   ]
  },
  {
   "cell_type": "code",
   "execution_count": 4,
   "metadata": {},
   "outputs": [],
   "source": [
    "detection_results_dir = '/home/marmot/mnt/ai4edevshare/api_outputs/Benchmark/190904'\n",
    "results_path = [os.path.join(detection_results_dir, f) for f in os.listdir(detection_results_dir)]"
   ]
  },
  {
   "cell_type": "code",
   "execution_count": 5,
   "metadata": {},
   "outputs": [
    {
     "data": {
      "text/plain": [
       "['/home/marmot/mnt/ai4edevshare/api_outputs/Benchmark/190904/5618_detections_train_cct_20_val_ss1_20190908093215.json',\n",
       " '/home/marmot/mnt/ai4edevshare/api_outputs/Benchmark/190904/6704_detections_train_ss1_val_cct20_20190908092921.json',\n",
       " '/home/marmot/mnt/ai4edevshare/api_outputs/Benchmark/190904/8506_detections_train_cct_20_val_cct20_20190908093026.json',\n",
       " '/home/marmot/mnt/ai4edevshare/api_outputs/Benchmark/190904/948_detections_train_ss1_val_ss1_20190908092426.json']"
      ]
     },
     "execution_count": 5,
     "metadata": {},
     "output_type": "execute_result"
    }
   ],
   "source": [
    "results_path"
   ]
  },
  {
   "cell_type": "code",
   "execution_count": 6,
   "metadata": {},
   "outputs": [],
   "source": [
    "num_gt_classes = 2"
   ]
  },
  {
   "cell_type": "markdown",
   "metadata": {},
   "source": [
    "Ground truth: `[x, y, width, height]`\n",
    "    \n",
    "API output: `[x_min, y_min, width_of_box, height_of_box]`\n",
    "\n",
    "TF format: `[y_min, x_min, y_max, x_max]`"
   ]
  },
  {
   "cell_type": "code",
   "execution_count": 7,
   "metadata": {},
   "outputs": [],
   "source": [
    "def make_detection_res(results_path, file_prefix=''):\n",
    "    with open(results_path) as f:\n",
    "        res = json.load(f)\n",
    "    \n",
    "    detection_res = {}\n",
    "\n",
    "    for i in res['images']:\n",
    "        file_name = i['file'].split(file_prefix)[1].split('.jpg')[0].split('.JPG')[0]\n",
    "        detection_res[file_name] = i  # all detections on that image is in this dict\n",
    "    return detection_res"
   ]
  },
  {
   "cell_type": "code",
   "execution_count": 12,
   "metadata": {},
   "outputs": [],
   "source": [
    "def get_gt_db(gt_db_path):\n",
    "    with open(gt_db_path) as f:\n",
    "        gt_db = json.load(f)\n",
    "    gt_indexed = cct_json_utils.IndexedJsonDb(gt_db)\n",
    "    return gt_indexed"
   ]
  },
  {
   "cell_type": "code",
   "execution_count": 9,
   "metadata": {},
   "outputs": [],
   "source": [
    "def get_per_image_gts_and_detections(gt_db_indexed, detection_res):\n",
    "    \"\"\"\n",
    "    gt_db_indexed: IndexedJsonDb of the ground truth bbox json.\n",
    "    detection_res: dict of image_id to image entry in the API output file's `images` field. The key needs to be\n",
    "      the same image_id as those in the ground truth json db.\n",
    "    \"\"\"\n",
    "    \n",
    "    per_image_gts = {}\n",
    "    per_image_detections = {}\n",
    "\n",
    "    # iterate through each image in the gt file, not the detection file\n",
    "\n",
    "    for image_id, annotations in gt_db_indexed.image_id_to_annotations.items():\n",
    "        # ground truth\n",
    "        image_obj = gt_db_indexed.image_id_to_image[image_id]\n",
    "        im_h, im_w = image_obj['height'], image_obj['width']\n",
    "\n",
    "        gt_boxes = []\n",
    "        gt_labels = []\n",
    "\n",
    "        for gt_anno in annotations:\n",
    "            # convert gt box coordinates to TFODAPI format\n",
    "            gt_box_x, gt_box_y, gt_box_w, gt_box_h = gt_anno['bbox']\n",
    "            gt_y_min, gt_x_min = gt_box_y / im_h, gt_box_x / im_w\n",
    "            gt_y_max, gt_x_max = (gt_box_y + gt_box_h) / im_h, (gt_box_x + gt_box_w) / im_w\n",
    "            gt_boxes.append([gt_y_min, gt_x_min, gt_y_max, gt_x_max])\n",
    "\n",
    "            gt_labels.append(gt_anno['category_id'])\n",
    "\n",
    "        per_image_gts[image_id] = {\n",
    "            'gt_boxes': gt_boxes,\n",
    "            'gt_labels': gt_labels\n",
    "        }\n",
    "\n",
    "        # detections\n",
    "        det_image_obj = detection_res[image_id]\n",
    "\n",
    "        detection_boxes = []\n",
    "        detection_scores = []\n",
    "        detection_labels = []\n",
    "\n",
    "        for det in det_image_obj['detections']:\n",
    "            x_min, y_min, width_of_box, height_of_box = det['bbox']\n",
    "            y_max = y_min + height_of_box\n",
    "            x_max = x_min + width_of_box\n",
    "            detection_boxes.append([y_min, x_min, y_max, x_max])\n",
    "\n",
    "            detection_scores.append(det['conf'])\n",
    "            detection_labels.append(int(det['category']))\n",
    "        \n",
    "        # only include a detection entry if that image had detections\n",
    "        if len(detection_boxes) > 0:        \n",
    "            per_image_detections[image_id] = {\n",
    "                'boxes': detection_boxes,\n",
    "                'scores': detection_scores,\n",
    "                'labels': detection_labels\n",
    "            }\n",
    "    \n",
    "    return per_image_gts, per_image_detections"
   ]
  },
  {
   "cell_type": "code",
   "execution_count": 25,
   "metadata": {},
   "outputs": [],
   "source": [
    "def show_metrics(per_cat_metrics):\n",
    "    for cat, metrics in per_cat_metrics.items():\n",
    "        print('\\n' + str(cat))\n",
    "        print('Number of gt:', metrics['num_gt'])\n",
    "        print('Average precision', metrics['average_precision'])\n",
    "\n",
    "    mAP_from_cats = detector_eval.find_mAP(per_cat_metrics)\n",
    "    print('\\nmAP as the average of AP across the {} categories is {:.4f}'.format(num_gt_classes, mAP_from_cats))\n",
    "\n",
    "    precision_at_08_recall = detector_eval.find_precision_at_recall(per_cat_metrics[1]['precision'], per_cat_metrics[1]['recall'], recall_level=0.8)\n",
    "    print('Precision at 0.8 recall:', precision_at_08_recall)\n",
    "    \n",
    "    plot_precision_recall_curve(per_cat_metrics[1]['precision'], per_cat_metrics[1]['recall'], title='')"
   ]
  },
  {
   "cell_type": "markdown",
   "metadata": {},
   "source": [
    "# Train on SS S1, val on SS S1"
   ]
  },
  {
   "cell_type": "code",
   "execution_count": 26,
   "metadata": {},
   "outputs": [
    {
     "name": "stderr",
     "output_type": "stream",
     "text": [
      "  5%|▌         | 151/2843 [00:00<00:01, 1504.33it/s]"
     ]
    },
    {
     "name": "stdout",
     "output_type": "stream",
     "text": [
      "Running per-object analysis...\n"
     ]
    },
    {
     "name": "stderr",
     "output_type": "stream",
     "text": [
      "100%|██████████| 2843/2843 [00:01<00:00, 1541.22it/s]\n"
     ]
    },
    {
     "name": "stdout",
     "output_type": "stream",
     "text": [
      "Computing precision recall for each category...\n",
      "Number of ground truth in category 1 is 4371\n",
      "Number of ground truth in category 2 is 7\n",
      "\n",
      "one_class\n",
      "Number of gt: 4378\n",
      "Average precision 0.8125918059948585\n",
      "\n",
      "1\n",
      "Number of gt: 4371\n",
      "Average precision 0.8138931426779892\n",
      "\n",
      "2\n",
      "Number of gt: 7\n",
      "Average precision 0.0\n",
      "\n",
      "mAP as the average of AP across the 2 categories is 0.4069\n",
      "Precision at 0.8 recall: 0.8923194692523603\n"
     ]
    },
    {
     "data": {
      "image/png": "[encoded data removed]",
      "text/plain": [
       "<Figure size 432x288 with 1 Axes>"
      ]
     },
     "metadata": {},
     "output_type": "display_data"
    }
   ],
   "source": [
    "file_prefix = 'SER/'\n",
    "\n",
    "results_path = '/home/marmot/mnt/ai4edevshare/api_outputs/Benchmark/190904/948_detections_train_ss1_val_ss1_20190908092426.json'\n",
    "\n",
    "gt_db_path = '/beaver_disk/camtrap/ss_season1/benchmark/SnapshotSerengetiBboxesS01_20190903_val.json'\n",
    "\n",
    "detection_res = make_detection_res(results_path, file_prefix=file_prefix)\n",
    "\n",
    "gt_indexed = get_gt_db(gt_db_path)\n",
    "\n",
    "per_image_gts, per_image_detections = get_per_image_gts_and_detections(gt_indexed, detection_res)\n",
    "\n",
    "per_cat_metrics = detector_eval.compute_precision_recall(per_image_detections, per_image_gts, num_gt_classes, \n",
    "                                                         matching_iou_threshold=0.5)\n",
    "\n",
    "show_metrics(per_cat_metrics)"
   ]
  },
  {
   "cell_type": "markdown",
   "metadata": {},
   "source": [
    "# Train on SS S1, val on CCT-20"
   ]
  },
  {
   "cell_type": "code",
   "execution_count": 27,
   "metadata": {},
   "outputs": [
    {
     "name": "stderr",
     "output_type": "stream",
     "text": [
      "  1%|          | 147/18202 [00:00<00:12, 1467.41it/s]"
     ]
    },
    {
     "name": "stdout",
     "output_type": "stream",
     "text": [
      "Running per-object analysis...\n"
     ]
    },
    {
     "name": "stderr",
     "output_type": "stream",
     "text": [
      "100%|██████████| 18202/18202 [00:11<00:00, 1560.32it/s]\n"
     ]
    },
    {
     "name": "stdout",
     "output_type": "stream",
     "text": [
      "Computing precision recall for each category...\n",
      "Number of ground truth in category 1 is 18113\n",
      "Number of ground truth in category 2 is 0\n",
      "\n",
      "one_class\n",
      "Number of gt: 18113\n",
      "Average precision 0.7145319748547024\n",
      "\n",
      "1\n",
      "Number of gt: 18113\n",
      "Average precision 0.7152005263725957\n",
      "\n",
      "2\n",
      "Number of gt: 0\n",
      "Average precision nan\n",
      "\n",
      "mAP as the average of AP across the 2 categories is 0.3576\n",
      "Precision at 0.8 recall: 0.4724042379788101\n"
     ]
    },
    {
     "data": {
      "image/png": "[encoded data removed]",
      "text/plain": [
       "<Figure size 432x288 with 1 Axes>"
      ]
     },
     "metadata": {},
     "output_type": "display_data"
    }
   ],
   "source": [
    "file_prefix = 'cct_images/'\n",
    "\n",
    "results_path = '/home/marmot/mnt/ai4edevshare/api_outputs/Benchmark/190904/6704_detections_train_ss1_val_cct20_20190908092921.json'\n",
    "\n",
    "gt_db_path = '/beaver_disk/camtrap/caltech/benchmark/cct-20/caltech-20_bboxes_20190904_val.json'\n",
    "\n",
    "detection_res = make_detection_res(results_path, file_prefix=file_prefix)\n",
    "\n",
    "gt_indexed = get_gt_db(gt_db_path)\n",
    "\n",
    "per_image_gts, per_image_detections = get_per_image_gts_and_detections(gt_indexed, detection_res)\n",
    "\n",
    "per_cat_metrics = detector_eval.compute_precision_recall(per_image_detections, per_image_gts, num_gt_classes, \n",
    "                                                         matching_iou_threshold=0.5)\n",
    "\n",
    "show_metrics(per_cat_metrics)"
   ]
  },
  {
   "cell_type": "markdown",
   "metadata": {},
   "source": [
    "# Train on CCT-20, val on CCT-20"
   ]
  },
  {
   "cell_type": "code",
   "execution_count": 28,
   "metadata": {},
   "outputs": [
    {
     "name": "stderr",
     "output_type": "stream",
     "text": [
      "  1%|          | 165/17918 [00:00<00:10, 1644.61it/s]"
     ]
    },
    {
     "name": "stdout",
     "output_type": "stream",
     "text": [
      "Running per-object analysis...\n"
     ]
    },
    {
     "name": "stderr",
     "output_type": "stream",
     "text": [
      "100%|██████████| 17918/17918 [00:11<00:00, 1583.24it/s]\n"
     ]
    },
    {
     "name": "stdout",
     "output_type": "stream",
     "text": [
      "Computing precision recall for each category...\n",
      "Number of ground truth in category 1 is 18539\n",
      "Number of ground truth in category 2 is 0\n",
      "\n",
      "one_class\n",
      "Number of gt: 18539\n",
      "Average precision 0.934790858712975\n",
      "\n",
      "1\n",
      "Number of gt: 18539\n",
      "Average precision 0.9348508911545226\n",
      "\n",
      "2\n",
      "Number of gt: 0\n",
      "Average precision nan\n",
      "\n",
      "mAP as the average of AP across the 2 categories is 0.4674\n",
      "Precision at 0.8 recall: 0.9762390574606726\n"
     ]
    },
    {
     "data": {
      "image/png": "[encoded data removed]",
      "text/plain": [
       "<Figure size 432x288 with 1 Axes>"
      ]
     },
     "metadata": {},
     "output_type": "display_data"
    }
   ],
   "source": [
    "file_prefix = 'cct_images/'\n",
    "\n",
    "results_path = '/home/marmot/mnt/ai4edevshare/api_outputs/Benchmark/190904/8506_detections_train_cct_20_val_cct20_20190908093026.json'\n",
    "\n",
    "gt_db_path = '/beaver_disk/camtrap/caltech/benchmark/cct-20/caltech-20_bboxes_20190904_val.json'\n",
    "\n",
    "detection_res = make_detection_res(results_path, file_prefix=file_prefix)\n",
    "\n",
    "gt_indexed = get_gt_db(gt_db_path)\n",
    "\n",
    "per_image_gts, per_image_detections = get_per_image_gts_and_detections(gt_indexed, detection_res)\n",
    "\n",
    "per_cat_metrics = detector_eval.compute_precision_recall(per_image_detections, per_image_gts, num_gt_classes, \n",
    "                                                         matching_iou_threshold=0.5)\n",
    "\n",
    "show_metrics(per_cat_metrics)"
   ]
  },
  {
   "cell_type": "markdown",
   "metadata": {},
   "source": [
    "# Train on CCT-20, val on SS S1"
   ]
  },
  {
   "cell_type": "code",
   "execution_count": 29,
   "metadata": {},
   "outputs": [
    {
     "name": "stderr",
     "output_type": "stream",
     "text": [
      "  5%|▌         | 141/2725 [00:00<00:01, 1408.14it/s]"
     ]
    },
    {
     "name": "stdout",
     "output_type": "stream",
     "text": [
      "Running per-object analysis...\n"
     ]
    },
    {
     "name": "stderr",
     "output_type": "stream",
     "text": [
      "100%|██████████| 2725/2725 [00:01<00:00, 1523.22it/s]\n"
     ]
    },
    {
     "name": "stdout",
     "output_type": "stream",
     "text": [
      "Computing precision recall for each category...\n",
      "Number of ground truth in category 1 is 4208\n",
      "Number of ground truth in category 2 is 7\n",
      "\n",
      "one_class\n",
      "Number of gt: 4215\n",
      "Average precision 0.7444351997107541\n",
      "\n",
      "1\n",
      "Number of gt: 4208\n",
      "Average precision 0.745673566250197\n",
      "\n",
      "2\n",
      "Number of gt: 7\n",
      "Average precision 0.0\n",
      "\n",
      "mAP as the average of AP across the 2 categories is 0.3728\n",
      "Precision at 0.8 recall: 0.0\n"
     ]
    },
    {
     "data": {
      "image/png": "[encoded data removed]",
      "text/plain": [
       "<Figure size 432x288 with 1 Axes>"
      ]
     },
     "metadata": {},
     "output_type": "display_data"
    }
   ],
   "source": [
    "file_prefix = 'SER/'\n",
    "\n",
    "results_path = '/home/marmot/mnt/ai4edevshare/api_outputs/Benchmark/190904/5618_detections_train_cct_20_val_ss1_20190908093215.json'\n",
    "\n",
    "gt_db_path = '/beaver_disk/camtrap/ss_season1/benchmark/SnapshotSerengetiBboxesS01_20190903_val.json'\n",
    "\n",
    "detection_res = make_detection_res(results_path, file_prefix=file_prefix)\n",
    "\n",
    "gt_indexed = get_gt_db(gt_db_path)\n",
    "\n",
    "per_image_gts, per_image_detections = get_per_image_gts_and_detections(gt_indexed, detection_res)\n",
    "\n",
    "per_cat_metrics = detector_eval.compute_precision_recall(per_image_detections, per_image_gts, num_gt_classes, \n",
    "                                                         matching_iou_threshold=0.5)\n",
    "\n",
    "show_metrics(per_cat_metrics)"
   ]
  },
  {
   "cell_type": "code",
   "execution_count": null,
   "metadata": {},
   "outputs": [],
   "source": []
  }
 ],
 "metadata": {
  "kernelspec": {
   "display_name": "Python [default]",
   "language": "python",
   "name": "python3"
  },
  "language_info": {
   "codemirror_mode": {
    "name": "ipython",
    "version": 3
   },
   "file_extension": ".py",
   "mimetype": "text/x-python",
   "name": "python",
   "nbconvert_exporter": "python",
   "pygments_lexer": "ipython3",
   "version": "3.5.5"
  }
 },
 "nbformat": 4,
 "nbformat_minor": 2
}
